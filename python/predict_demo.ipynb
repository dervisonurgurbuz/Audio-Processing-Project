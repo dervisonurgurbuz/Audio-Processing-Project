{
 "cells": [
  {
   "cell_type": "code",
   "execution_count": 1,
   "metadata": {},
   "outputs": [],
   "source": [
    "import utils\n",
    "import CNNModel\n",
    "import torch\n",
    "import argparse\n",
    "import requests\n",
    "import librosa"
   ]
  },
  {
   "cell_type": "code",
   "execution_count": null,
   "metadata": {},
   "outputs": [],
   "source": [
    "import os"
   ]
  },
  {
   "cell_type": "code",
   "execution_count": 2,
   "metadata": {},
   "outputs": [],
   "source": [
    "num_classes = 3\n",
    "model_path = './CNN_model.pth'\n",
    "Labels = {'HAP': 0, 'NEU': 1, 'SAD': 2}\n",
    "\n",
    "# parser = argparse.ArgumentParser(description='arguments')\n",
    "# parser.add_argument('model', type=str, help='Model type')\n",
    "# parser.add_argument('audio', type=str, help='audio.wav path')\n",
    "\n",
    "# args = parser.parse_args()"
   ]
  },
  {
   "cell_type": "code",
   "execution_count": 9,
   "metadata": {},
   "outputs": [],
   "source": [
    "def predict(audio, model):\n",
    "    testFeature = torch.tensor(utils.extract_features(audio, 'CNN').reshape(1, 1, 9, 18))\n",
    "    out = model(testFeature.float())\n",
    "    max_value = torch.argmax(out)\n",
    "    result = utils.label_query(Labels, max_value.item())[0]\n",
    "    # print(\" Label predict:\", result, '\\n', 'Label expect: ', 'NEU') # Fixed Currently\n",
    "    return result"
   ]
  },
  {
   "cell_type": "code",
   "execution_count": 4,
   "metadata": {},
   "outputs": [],
   "source": [
    "def get_tempo(fileName):\n",
    "    # Load a built-in audio sample (example: Beat loop)\n",
    "    y, sr = librosa.load(fileName)\n",
    "    # Estimate the tempo and beat events\n",
    "    tempo, beats = librosa.beat.beat_track(y=y, sr=sr)\n",
    "    return tempo"
   ]
  },
  {
   "cell_type": "code",
   "execution_count": 5,
   "metadata": {},
   "outputs": [],
   "source": [
    "def call_server(emotion_tag, tempo):\n",
    "    # Sending request to Java Script Backend Server\n",
    "    # emotion = emotion_tag # Important: This needs to be Calm, Happy, Energetic or Sad\n",
    "    sever_labels = { 'HAP': 'Happy', 'NEU': 'Calm', 'SAD': 'Sad' }\n",
    "\n",
    "    url = f\"http://localhost:3004?emotion={sever_labels[emotion_tag]}&tempo={tempo}\"\n",
    "    headers = {}\n",
    "\n",
    "    try:\n",
    "        response = requests.get(url, headers=headers)\n",
    "        response.raise_for_status()  # Raise an error for non-2xx status codes\n",
    "        print(response.json())\n",
    "    except requests.exceptions.RequestException as e:\n",
    "        print(e)"
   ]
  },
  {
   "cell_type": "code",
   "execution_count": 10,
   "metadata": {},
   "outputs": [
    {
     "ename": "TypeError",
     "evalue": "extract_features() missing 1 required positional argument: 'model_type'",
     "output_type": "error",
     "traceback": [
      "\u001b[0;31m---------------------------------------------------------------------------\u001b[0m",
      "\u001b[0;31mTypeError\u001b[0m                                 Traceback (most recent call last)",
      "Cell \u001b[0;32mIn[10], line 10\u001b[0m\n\u001b[1;32m      6\u001b[0m audio \u001b[38;5;241m=\u001b[39m [\u001b[38;5;124m\"\u001b[39m\u001b[38;5;124m1001_IEO_HAP_HI.wav\u001b[39m\u001b[38;5;124m\"\u001b[39m, \u001b[38;5;124m\"\u001b[39m\u001b[38;5;124m2663_NEU_XX.wav\u001b[39m\u001b[38;5;124m\"\u001b[39m,\u001b[38;5;124m\"\u001b[39m\u001b[38;5;124mimhappy.wav\u001b[39m\u001b[38;5;124m\"\u001b[39m]\n\u001b[1;32m      8\u001b[0m \u001b[38;5;66;03m# In order to change audio file the index if audio should be chainged\u001b[39;00m\n\u001b[0;32m---> 10\u001b[0m emotion \u001b[38;5;241m=\u001b[39m \u001b[43mpredict\u001b[49m\u001b[43m(\u001b[49m\u001b[43maudio\u001b[49m\u001b[43m[\u001b[49m\u001b[38;5;241;43m1\u001b[39;49m\u001b[43m]\u001b[49m\u001b[43m,\u001b[49m\u001b[43m \u001b[49m\u001b[43mmodel\u001b[49m\u001b[43m)\u001b[49m\n\u001b[1;32m     11\u001b[0m tempo \u001b[38;5;241m=\u001b[39m get_tempo(audio[\u001b[38;5;241m1\u001b[39m])\n\u001b[1;32m     13\u001b[0m \u001b[38;5;28mprint\u001b[39m(\u001b[38;5;124mf\u001b[39m\u001b[38;5;124m\"\u001b[39m\u001b[38;5;124mPredicted emotion: \u001b[39m\u001b[38;5;132;01m{\u001b[39;00memotion\u001b[38;5;132;01m}\u001b[39;00m\u001b[38;5;124m\"\u001b[39m)\n",
      "Cell \u001b[0;32mIn[9], line 2\u001b[0m, in \u001b[0;36mpredict\u001b[0;34m(audio, model)\u001b[0m\n\u001b[1;32m      1\u001b[0m \u001b[38;5;28;01mdef\u001b[39;00m \u001b[38;5;21mpredict\u001b[39m(audio, model):\n\u001b[0;32m----> 2\u001b[0m     testFeature \u001b[38;5;241m=\u001b[39m torch\u001b[38;5;241m.\u001b[39mtensor(\u001b[43mutils\u001b[49m\u001b[38;5;241;43m.\u001b[39;49m\u001b[43mextract_features\u001b[49m\u001b[43m(\u001b[49m\u001b[43maudio\u001b[49m\u001b[43m)\u001b[49m\u001b[38;5;241m.\u001b[39mreshape(\u001b[38;5;241m1\u001b[39m, \u001b[38;5;241m1\u001b[39m, \u001b[38;5;241m9\u001b[39m, \u001b[38;5;241m18\u001b[39m), \u001b[38;5;124m'\u001b[39m\u001b[38;5;124mCNN\u001b[39m\u001b[38;5;124m'\u001b[39m)\n\u001b[1;32m      3\u001b[0m     out \u001b[38;5;241m=\u001b[39m model(testFeature\u001b[38;5;241m.\u001b[39mfloat())\n\u001b[1;32m      4\u001b[0m     max_value \u001b[38;5;241m=\u001b[39m torch\u001b[38;5;241m.\u001b[39margmax(out)\n",
      "\u001b[0;31mTypeError\u001b[0m: extract_features() missing 1 required positional argument: 'model_type'"
     ]
    }
   ],
   "source": [
    "# def main():\n",
    "#     if args.model == 'CNN':\n",
    "model = CNNModel.CNN()\n",
    "utils.load_model(model, model_path)\n",
    "\n",
    "audio = [\"1001_IEO_HAP_HI.wav\", \"2663_NEU_XX.wav\",\"imhappy.wav\"]\n",
    "\n",
    "# In order to change audio file the index if audio should be chainged\n",
    "\n",
    "emotion = predict(audio[1], model)\n",
    "tempo = get_tempo(audio[1])\n",
    "\n",
    "print(f\"Predicted emotion: {emotion}\")\n",
    "\n",
    "# Call server here with requests\n",
    "call_server(emotion, tempo)"
   ]
  }
 ],
 "metadata": {
  "kernelspec": {
   "display_name": "venv",
   "language": "python",
   "name": "python3"
  },
  "language_info": {
   "codemirror_mode": {
    "name": "ipython",
    "version": 3
   },
   "file_extension": ".py",
   "mimetype": "text/x-python",
   "name": "python",
   "nbconvert_exporter": "python",
   "pygments_lexer": "ipython3",
   "version": "3.10.11"
  }
 },
 "nbformat": 4,
 "nbformat_minor": 2
}
