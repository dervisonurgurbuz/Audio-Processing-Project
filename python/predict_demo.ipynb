{
 "cells": [
  {
   "cell_type": "code",
   "execution_count": null,
   "metadata": {},
   "outputs": [],
   "source": [
    "import utils\n",
    "import CNNModel\n",
    "import torch\n",
    "import argparse\n",
    "import requests\n",
    "import librosa"
   ]
  },
  {
   "cell_type": "code",
   "execution_count": null,
   "metadata": {},
   "outputs": [],
   "source": [
    "import os"
   ]
  },
  {
   "cell_type": "code",
   "execution_count": null,
   "metadata": {},
   "outputs": [],
   "source": [
    "num_classes = 3\n",
    "model_path = './CNN_model.pth'\n",
    "Labels = {'HAP': 0, 'NEU': 1, 'SAD': 2}\n",
    "\n",
    "# parser = argparse.ArgumentParser(description='arguments')\n",
    "# parser.add_argument('model', type=str, help='Model type')\n",
    "# parser.add_argument('audio', type=str, help='audio.wav path')\n",
    "\n",
    "# args = parser.parse_args()"
   ]
  },
  {
   "cell_type": "code",
   "execution_count": null,
   "metadata": {},
   "outputs": [],
   "source": [
    "def predict(audio, model):\n",
    "    testFeature = torch.tensor(utils.extract_features(audio, 'CNN').reshape(1, 1, 9, 18))\n",
    "    out = model(testFeature.float())\n",
    "    max_value = torch.argmax(out)\n",
    "    result = utils.label_query(Labels, max_value.item())[0]\n",
    "    # print(\" Label predict:\", result, '\\n', 'Label expect: ', 'NEU') # Fixed Currently\n",
    "    return result"
   ]
  },
  {
   "cell_type": "code",
   "execution_count": null,
   "metadata": {},
   "outputs": [],
   "source": [
    "def get_tempo(fileName):\n",
    "    # Load a built-in audio sample (example: Beat loop)\n",
    "    y, sr = librosa.load(fileName)\n",
    "    # Estimate the tempo and beat events\n",
    "    tempo, beats = librosa.beat.beat_track(y=y, sr=sr)\n",
    "    return tempo"
   ]
  },
  {
   "cell_type": "code",
   "execution_count": null,
   "metadata": {},
   "outputs": [],
   "source": [
    "def call_server(emotion_tag, tempo):\n",
    "    # Sending request to Java Script Backend Server\n",
    "    # emotion = emotion_tag # Important: This needs to be Calm, Happy, Energetic or Sad\n",
    "    sever_labels = { 'HAP': 'Happy', 'NEU': 'Calm', 'SAD': 'Sad' }\n",
    "\n",
    "    url = f\"http://localhost:3004?emotion={sever_labels[emotion_tag]}&tempo={tempo}\"\n",
    "    headers = {}\n",
    "\n",
    "    try:\n",
    "        response = requests.get(url, headers=headers)\n",
    "        response.raise_for_status()  # Raise an error for non-2xx status codes\n",
    "        print(response.json())\n",
    "    except requests.exceptions.RequestException as e:\n",
    "        print(e)"
   ]
  },
  {
   "cell_type": "code",
   "execution_count": null,
   "metadata": {},
   "outputs": [],
   "source": [
    "# def main():\n",
    "#     if args.model == 'CNN':\n",
    "model = CNNModel.CNN()\n",
    "utils.load_model(model, model_path)\n",
    "\n",
    "audio = [\"1001_IEO_HAP_HI.wav\", \"2663_NEU_XX.wav\",\"imhappy.wav\"]\n",
    "\n",
    "# In order to change audio file, change the index of audio list \n",
    "\n",
    "emotion = predict(audio[1], model)\n",
    "tempo = get_tempo(audio[1])\n",
    "\n",
    "print(f\"Predicted emotion: {emotion}\")\n",
    "\n",
    "# Call server here with requests\n",
    "call_server(emotion, tempo)"
   ]
  }
 ],
 "metadata": {
  "kernelspec": {
   "display_name": "venv",
   "language": "python",
   "name": "python3"
  },
  "language_info": {
   "codemirror_mode": {
    "name": "ipython",
    "version": 3
   },
   "file_extension": ".py",
   "mimetype": "text/x-python",
   "name": "python",
   "nbconvert_exporter": "python",
   "pygments_lexer": "ipython3",
   "version": "3.10.11"
  }
 },
 "nbformat": 4,
 "nbformat_minor": 2
}
