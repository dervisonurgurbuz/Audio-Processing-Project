{
 "cells": [
  {
   "cell_type": "markdown",
   "metadata": {},
   "source": [
    "# DEMO"
   ]
  },
  {
   "cell_type": "code",
   "execution_count": 1,
   "metadata": {},
   "outputs": [
    {
     "name": "stderr",
     "output_type": "stream",
     "text": [
      "C:\\Users\\Hexiang\\AppData\\Roaming\\Python\\Python38\\site-packages\\numpy\\_distributor_init.py:30: UserWarning: loaded more than 1 DLL from .libs:\n",
      "C:\\Users\\Hexiang\\AppData\\Roaming\\Python\\Python38\\site-packages\\numpy\\.libs\\libopenblas.FB5AE2TYXYH2IJRDKGDGQ3XBKLKTF43H.gfortran-win_amd64.dll\n",
      "C:\\Users\\Hexiang\\AppData\\Roaming\\Python\\Python38\\site-packages\\numpy\\.libs\\libopenblas64__v0.3.21-gcc_10_3_0.dll\n",
      "  warnings.warn(\"loaded more than 1 DLL from .libs:\"\n"
     ]
    }
   ],
   "source": [
    "import librosa\n",
    "import numpy as np\n",
    "import torch\n",
    "import random\n",
    "import os\n",
    "from torch.utils.data import Dataset, DataLoader\n",
    "import matplotlib.pyplot as plt\n",
    "from tqdm import tqdm\n",
    "import warnings\n",
    "warnings.simplefilter('ignore') # ignoring runtime warning if needed\n"
   ]
  },
  {
   "cell_type": "markdown",
   "metadata": {},
   "source": [
    "# Config"
   ]
  },
  {
   "cell_type": "code",
   "execution_count": 2,
   "metadata": {},
   "outputs": [],
   "source": [
    "SEED = 42\n",
    "batch_size = 32\n",
    "epochs = 1000\n",
    "learning_rate = 0.003"
   ]
  },
  {
   "cell_type": "markdown",
   "metadata": {},
   "source": [
    "# Data extraction (From kaggle := need to rewrite `def extract_features(file)`)"
   ]
  },
  {
   "cell_type": "code",
   "execution_count": 3,
   "metadata": {},
   "outputs": [],
   "source": [
    "def extract_features(file):\n",
    "    y, sr = librosa.load(file)\n",
    "    # ZCR\n",
    "    result = np.array([])\n",
    "    zcr = np.mean(librosa.feature.zero_crossing_rate(y=y).T, axis=0)\n",
    "    result=np.hstack((result, zcr)) # stacking horizontally\n",
    "    # Chroma_stft\n",
    "    stft = np.abs(librosa.stft(y=y))\n",
    "    chroma_stft = np.mean(librosa.feature.chroma_stft(S=stft, sr=sr).T, axis=0)\n",
    "    result = np.hstack((result, chroma_stft)) # stacking horizontally\n",
    "    # MFCC\n",
    "    mfcc = np.mean(librosa.feature.mfcc(y=y, sr=sr).T, axis=0)\n",
    "    result = np.hstack((result, mfcc)) # stacking horizontally\n",
    "    # Root Mean Square Value\n",
    "    rms = np.mean(librosa.feature.rms(y=y).T, axis=0)\n",
    "    result = np.hstack((result, rms)) # stacking horizontally\n",
    "    # MelSpectogram\n",
    "    mel = np.mean(librosa.feature.melspectrogram(y=y, sr=sr).T, axis=0)\n",
    "    result = np.hstack((result, mel)) # stacking horizontally\n",
    "    \n",
    "    return result.reshape(1, 9, 18) # Reshape as CNN input: 1 channel 9x18 matrix"
   ]
  },
  {
   "cell_type": "code",
   "execution_count": 4,
   "metadata": {},
   "outputs": [],
   "source": [
    "# My DatasetLoader\n",
    "class CustomDataset(Dataset):\n",
    "    def __init__(self, data, labels):\n",
    "        self.data = torch.tensor(data)  \n",
    "        self.labels = torch.tensor(labels) \n",
    "\n",
    "    def __len__(self):\n",
    "        return len(self.data)\n",
    "\n",
    "    def __getitem__(self, index):\n",
    "        return self.data[index], self.labels[index]\n"
   ]
  },
  {
   "cell_type": "markdown",
   "metadata": {},
   "source": [
    "### Generate datasets  "
   ]
  },
  {
   "cell_type": "code",
   "execution_count": 5,
   "metadata": {},
   "outputs": [],
   "source": [
    "# Training data structures\n",
    "# \n",
    "# data\\\n",
    "#     CremaV3\\\n",
    "#         HAP\\\n",
    "#             xxxx.waw\n",
    "#             xxxx.waw\n",
    "#             xxxx.waw\n",
    "#         NEU\\\n",
    "#             xxxx.waw\n",
    "#             xxxx.waw\n",
    "#             xxxx.waw\n",
    "#         SAD\\\n",
    "#             xxxx.waw\n",
    "#             xxxx.waw\n",
    "#             xxxx.waw\n",
    "# \n"
   ]
  },
  {
   "cell_type": "code",
   "execution_count": 6,
   "metadata": {},
   "outputs": [
    {
     "name": "stdout",
     "output_type": "stream",
     "text": [
      "Processing emotion: HAP\n",
      "Processing emotion: NEU\n",
      "Processing emotion: SAD\n"
     ]
    }
   ],
   "source": [
    "# preprocessing, labeling the .wav file base on folder name\n",
    "Audio_folder = './data/CremaV3/'\n",
    "feature_tensors = []\n",
    "label_tensors = []\n",
    "\n",
    "emo_dict = {'HAP': 0, 'NEU': 1, 'SAD': 2} # Label encoding\n",
    "\n",
    "for emotion_folder in os.listdir(Audio_folder):\n",
    "    subfolder = os.path.join(Audio_folder, emotion_folder)\n",
    "    if os.path.isdir(subfolder):  \n",
    "        print(f\"Processing emotion: {emotion_folder}\")\n",
    "        for audio_file in os.listdir(subfolder):\n",
    "            if audio_file.endswith(\".wav\"): \n",
    "                file_path = os.path.join(subfolder, audio_file)\n",
    "                features = extract_features(file_path)\n",
    "                feature_tensors.append(features)\n",
    "                label_tensors.append(emo_dict[emotion_folder])"
   ]
  },
  {
   "cell_type": "markdown",
   "metadata": {},
   "source": [
    "# Model"
   ]
  },
  {
   "cell_type": "code",
   "execution_count": 8,
   "metadata": {},
   "outputs": [],
   "source": [
    "# Our CNN model\n",
    "class CNN(torch.nn.Module):\n",
    "    def __init__(self, num_classes=3):\n",
    "        super(CNN, self).__init__()\n",
    "        \n",
    "        self.dropout = torch.nn.Dropout(0.3)\n",
    "        self.conv1 = torch.nn.Conv2d(in_channels=1, out_channels=32, kernel_size=3, stride=1, padding=1)\n",
    "        self.bn1 = torch.nn.BatchNorm2d(32)\n",
    "        self.conv2 = torch.nn.Conv2d(in_channels=32, out_channels=64, kernel_size=3, stride=1, padding=1)\n",
    "        self.bn2 = torch.nn.BatchNorm2d(64)\n",
    "        self.pool = torch.nn.MaxPool2d(kernel_size=2)\n",
    "        self.fc1 = torch.nn.Linear(512, 256) \n",
    "        self.fc2 = torch.nn.Linear(256, 64) \n",
    "        self.fc3 = torch.nn.Linear(64, num_classes)    \n",
    "        self.relu = torch.nn.ReLU()\n",
    "        \n",
    "    def forward(self, x):\n",
    "        x = self.relu(self.bn1(self.conv1(x)))\n",
    "        x = self.pool(x)\n",
    "        x = self.relu(self.bn2(self.conv2(x)))\n",
    "        x = self.pool(x)\n",
    "        x = torch.flatten(x, 1)\n",
    "        x = self.dropout(self.relu(self.fc1(x)))\n",
    "        x = self.relu(self.fc2(x))\n",
    "        x = self.fc3(x)\n",
    "        \n",
    "        return x\n"
   ]
  },
  {
   "cell_type": "markdown",
   "metadata": {},
   "source": [
    "# Training process"
   ]
  },
  {
   "cell_type": "code",
   "execution_count": 9,
   "metadata": {},
   "outputs": [],
   "source": [
    "# spliting Trainig : Val : Testing -> 80% : 10% : 10%\n",
    "dataset = CustomDataset(feature_tensors, label_tensors)\n",
    "train_size = int(0.8 * len(dataset))\n",
    "val_size = int(0.1 * len(dataset))\n",
    "test_size = len(dataset) - train_size - val_size\n",
    "train_dataset, val_dataset, test_dataset = torch.utils.data.random_split(dataset, [train_size, val_size, test_size])\n",
    "\n",
    "train_loader = DataLoader(train_dataset, batch_size=batch_size, shuffle=True)\n",
    "val_loader = DataLoader(val_dataset, batch_size=batch_size, shuffle=False)\n",
    "test_loader = DataLoader(test_dataset, batch_size=batch_size, shuffle=False)"
   ]
  },
  {
   "cell_type": "code",
   "execution_count": 10,
   "metadata": {},
   "outputs": [],
   "source": [
    "# AUC metric\n",
    "def evaluate(mymodel, dataloader):\n",
    "    mymodel.eval()\n",
    "    correct = 0\n",
    "    total = 0\n",
    "    with torch.no_grad():\n",
    "        for data in dataloader:\n",
    "            inputs, labels = data\n",
    "            inputs, labels = inputs.float(), labels.long()\n",
    "            outputs = mymodel(inputs)\n",
    "            _, predict = torch.max(outputs.data, 1)\n",
    "            total += labels.size(0)\n",
    "            correct += (predict == labels).sum().item()\n",
    "    return correct / total"
   ]
  },
  {
   "cell_type": "code",
   "execution_count": 11,
   "metadata": {},
   "outputs": [
    {
     "name": "stderr",
     "output_type": "stream",
     "text": [
      "100%|██████████| 1000/1000 [08:16<00:00,  2.01it/s, Loss=0.3897, trainAUC=0.8439, valAUC=0.6878]\n"
     ]
    }
   ],
   "source": [
    "model = CNN(num_classes=3)  \n",
    "random.seed(SEED)\n",
    "# history\n",
    "history = {'trainLoss' : [],\n",
    "           'trainAUC' : [],\n",
    "           'valAUC' : []}\n",
    "\n",
    "# Loss function and optimizer\n",
    "criterion = torch.nn.CrossEntropyLoss()\n",
    "optimizer = torch.optim.SGD(model.parameters(), lr=learning_rate)\n",
    "\n",
    "iterations = tqdm(range(epochs))\n",
    "# Loop\n",
    "for epoch in iterations:\n",
    "    losses = []\n",
    "    for batch_X, batch_y in train_loader:\n",
    "        batch_X, batch_y = batch_X.float(), batch_y.long()  \n",
    "        optimizer.zero_grad()  \n",
    "        outputs = model(batch_X)\n",
    "        loss = criterion(outputs, batch_y)\n",
    "        losses.append(loss.item())\n",
    "        loss.backward()\n",
    "        optimizer.step()\n",
    "    \n",
    "    history['trainLoss'].append(np.mean(losses))\n",
    "    history['trainAUC'].append(evaluate(model, train_loader))\n",
    "    history['valAUC'].append(evaluate(model, val_loader))\n",
    "    \n",
    "    iterations.set_postfix({\"Loss\": f\"{history['trainLoss'][-1]:.4f}\", \"trainAUC\": f\"{history['trainAUC'][-1]:.4f}\", \"valAUC\": f\"{history['valAUC'][-1]:.4f}\"}, refresh=True)\n",
    "\n",
    "\n"
   ]
  },
  {
   "cell_type": "markdown",
   "metadata": {},
   "source": [
    "# Results"
   ]
  },
  {
   "cell_type": "code",
   "execution_count": 12,
   "metadata": {},
   "outputs": [],
   "source": [
    "def smoothing(data, window_size):\n",
    "    avg = []\n",
    "    count = 0\n",
    "    for i, value in enumerate(data, 1):\n",
    "        count += value\n",
    "        if i >= window_size:\n",
    "            avg.append(count / window_size)\n",
    "            count -= data[i - window_size]\n",
    "    return avg\n"
   ]
  },
  {
   "cell_type": "code",
   "execution_count": 28,
   "metadata": {},
   "outputs": [],
   "source": [
    "def result_generation(history, smooth):    \n",
    "    loss = smoothing(history['trainLoss'], smooth)\n",
    "    trian_auc = smoothing(history['trainAUC'], smooth)\n",
    "    val_auc = smoothing(history['valAUC'], smooth)\n",
    "    epochs = range(1, len(loss) + 1)\n",
    "\n",
    "    ax1 = plt.subplot()\n",
    "    ax2 = ax1.twinx()\n",
    "    ax1.set_ylabel('Loss', fontsize=15)\n",
    "    ax2.set_ylabel('Accuracy', fontsize=15)\n",
    "    ax1.set_xlabel('epochs', fontsize=15)\n",
    "    L1, = ax2.plot(epochs, trian_auc, 'blue', label='Training Accuracy')\n",
    "    L2, = ax1.plot(epochs, loss, 'red', label='Training Loss')\n",
    "    L3, = ax2.plot(epochs, val_auc, 'green', label='Val Accuracy')\n",
    "    plt.legend(handles = [L1, L2, L3], loc = 'upper left', fontsize=10)\n",
    "    plt.title(f'CNN Training process (smoothing {smooth})')\n",
    "    plt.savefig('./results/CNN.png')"
   ]
  },
  {
   "cell_type": "code",
   "execution_count": 29,
   "metadata": {},
   "outputs": [
    {
     "data": {
      "image/png": "[encoded data removed]",
      "text/plain": [
       "<Figure size 640x480 with 2 Axes>"
      ]
     },
     "metadata": {},
     "output_type": "display_data"
    }
   ],
   "source": [
    "result_generation(history, 55)"
   ]
  },
  {
   "cell_type": "markdown",
   "metadata": {},
   "source": [
    "# Evaluation"
   ]
  },
  {
   "cell_type": "markdown",
   "metadata": {},
   "source": [
    "### test data"
   ]
  },
  {
   "cell_type": "code",
   "execution_count": 15,
   "metadata": {},
   "outputs": [
    {
     "name": "stdout",
     "output_type": "stream",
     "text": [
      "Accuracy on test set: 0.6593\n"
     ]
    }
   ],
   "source": [
    "print(f'Accuracy on test set: {evaluate(model, test_loader):.4f}')"
   ]
  },
  {
   "cell_type": "markdown",
   "metadata": {},
   "source": [
    "# Save"
   ]
  },
  {
   "cell_type": "code",
   "execution_count": 16,
   "metadata": {},
   "outputs": [],
   "source": [
    "torch.save(model.state_dict(), './CNNModel.pth')"
   ]
  },
  {
   "cell_type": "markdown",
   "metadata": {},
   "source": [
    "# Load"
   ]
  },
  {
   "cell_type": "code",
   "execution_count": 24,
   "metadata": {},
   "outputs": [
    {
     "data": {
      "text/plain": [
       "<All keys matched successfully>"
      ]
     },
     "execution_count": 24,
     "metadata": {},
     "output_type": "execute_result"
    }
   ],
   "source": [
    "model = CNN(num_classes=3) \n",
    "model.load_state_dict(torch.load('./CNNModel.pth'))"
   ]
  },
  {
   "cell_type": "code",
   "execution_count": 26,
   "metadata": {},
   "outputs": [
    {
     "name": "stdout",
     "output_type": "stream",
     "text": [
      "Accuracy on test set: 0.6593\n"
     ]
    }
   ],
   "source": [
    "print(f'Accuracy on test set: {evaluate(model, test_loader):.4f}')"
   ]
  }
 ],
 "metadata": {
  "kernelspec": {
   "display_name": "Python 3",
   "language": "python",
   "name": "python3"
  },
  "language_info": {
   "codemirror_mode": {
    "name": "ipython",
    "version": 3
   },
   "file_extension": ".py",
   "mimetype": "text/x-python",
   "name": "python",
   "nbconvert_exporter": "python",
   "pygments_lexer": "ipython3",
   "version": "3.8.2"
  }
 },
 "nbformat": 4,
 "nbformat_minor": 2
}
